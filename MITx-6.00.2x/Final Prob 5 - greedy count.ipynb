{
 "nbformat": 4,
 "nbformat_minor": 2,
 "metadata": {
  "language_info": {
   "name": "python",
   "codemirror_mode": {
    "name": "ipython",
    "version": 3
   },
   "version": "3.7.3"
  },
  "orig_nbformat": 2,
  "file_extension": ".py",
  "mimetype": "text/x-python",
  "name": "python",
  "npconvert_exporter": "python",
  "pygments_lexer": "ipython3",
  "version": 3
 },
 "cells": [
  {
   "cell_type": "code",
   "execution_count": 115,
   "metadata": {},
   "outputs": [],
   "source": [
    "import numpy as np\n",
    "from itertools import product\n",
    "\n",
    "def find_combination(choices, total):\n",
    "    \"\"\"\n",
    "    choices: a non-empty list of ints\n",
    "    total: a positive int\n",
    " \n",
    "    Returns result, a numpy.array of length len(choices) \n",
    "    such that\n",
    "        * each element of result is 0 or 1\n",
    "        * sum(result*choices) == total\n",
    "        * sum(result) is as small as possible\n",
    "    In case of ties, returns any result that works.\n",
    "    If there is no result that gives the exact total, \n",
    "    pick the one that gives sum(result*choices) closest \n",
    "    to total without going over.\n",
    "    \"\"\"\n",
    "    l = len(choices)\n",
    "    options = []\n",
    "    vals = {}\n",
    "    for i in product((0, 1), repeat=l):\n",
    "        options.append(i)\n",
    "    for i in options:\n",
    "        vals[i] = sum(np.array(i) * np.array(choices))\n",
    "    validVals = vals.copy()\n",
    "    for k,v in vals.items():\n",
    "        if v == total:\n",
    "            return np.array(k)\n",
    "        elif v > total:\n",
    "            del validVals[k]\n",
    "        else:\n",
    "            pass\n",
    "    maxim = max(validVals.values())\n",
    "    # return validVals, maxim\n",
    "    for k,v in validVals.items():\n",
    "        if validVals[k] == maxim:\n",
    "            return np.array(k)\n",
    "        else:\n",
    "            pass"
   ]
  },
  {
   "cell_type": "code",
   "execution_count": 116,
   "metadata": {},
   "outputs": [],
   "source": [
    "a = [1,0,0,3,6]\n",
    "total = 5"
   ]
  },
  {
   "cell_type": "code",
   "execution_count": 117,
   "metadata": {},
   "outputs": [
    {
     "data": {
      "text/plain": "array([1, 0, 0, 1, 0])"
     },
     "execution_count": 117,
     "metadata": {},
     "output_type": "execute_result"
    }
   ],
   "source": [
    "find_combination(a,total)"
   ]
  },
  {
   "cell_type": "code",
   "execution_count": 94,
   "metadata": {},
   "outputs": [
    {
     "data": {
      "text/plain": "array([0, 0, 0])"
     },
     "execution_count": 94,
     "metadata": {},
     "output_type": "execute_result"
    }
   ],
   "source": [
    "np.array((0,0,0))"
   ]
  },
  {
   "cell_type": "code",
   "execution_count": null,
   "metadata": {},
   "outputs": [],
   "source": []
  }
 ]
}