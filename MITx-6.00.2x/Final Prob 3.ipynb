{
 "nbformat": 4,
 "nbformat_minor": 2,
 "metadata": {
  "language_info": {
   "name": "python",
   "codemirror_mode": {
    "name": "ipython",
    "version": 3
   },
   "version": "3.7.3"
  },
  "orig_nbformat": 2,
  "file_extension": ".py",
  "mimetype": "text/x-python",
  "name": "python",
  "npconvert_exporter": "python",
  "pygments_lexer": "ipython3",
  "version": 3
 },
 "cells": [
  {
   "source": [
    "import random\n",
    "# helper function\n",
    "def getMeanAndStd(X):\n",
    "    mean = sum(X)/float(len(X))\n",
    "    tot = 0.0\n",
    "    for x in X:\n",
    "        tot += (x - mean)**2\n",
    "    std = (tot/len(X))**0.5\n",
    "    return mean, std  \n",
    "\n",
    "def guessfood_sim(num_trials, probs, cost, get):\n",
    "    \"\"\"\n",
    "    num_trials: integer, number of trials to run\n",
    "    probs: list of probabilities of guessing correctly for \n",
    "           the ith food, in each trial\n",
    "    cost: float, how much to pay for each food guess\n",
    "    get: float, how much you get for a correct guess\n",
    "    \n",
    "    Runs a Monte Carlo simulation, 'num_trials' times. In each trial \n",
    "    you guess what each food is, the ith food has 'prob[i]' probability \n",
    "    to get it right. For every food you guess, you pay 'cost' dollars.\n",
    "    If you guess correctly, you get 'get' dollars. \n",
    "    \n",
    "    Returns: a tuple of the mean and standard deviation over \n",
    "    'num_trials' trials of the net money earned \n",
    "    when making len(probs) guesses\n",
    "    \"\"\"\n",
    "    guesses = []\n",
    "    for i in range(num_trials):\n",
    "        guess = []\n",
    "        paySum = 0\n",
    "        getSum = 0\n",
    "        for ind, pr in enumerate(probs):\n",
    "            paySum += cost\n",
    "            if random.random() <= pr:\n",
    "                getSum += get\n",
    "            else:\n",
    "                pass\n",
    "        guesses.append(getSum - paySum)\n",
    "    return getMeanAndStd(guesses)"
   ],
   "cell_type": "code",
   "outputs": [],
   "metadata": {},
   "execution_count": 48
  },
  {
   "source": [
    "probs = [0.05, 0.1, 0.2, 0.05, 0.05, 0.01, 0.02, 0.03, 0.4, 0.09]\n",
    "cost = 10.6\n",
    "get = 100"
   ],
   "cell_type": "code",
   "outputs": [],
   "metadata": {},
   "execution_count": 49
  },
  {
   "source": [
    "guessfood_sim(100, [1, 1, 1], 1, 1)"
   ],
   "cell_type": "code",
   "outputs": [
    {
     "output_type": "execute_result",
     "data": {
      "text/plain": "(0.0, 0.0)"
     },
     "metadata": {},
     "execution_count": 51
    }
   ],
   "metadata": {},
   "execution_count": 51
  },
  {
   "source": [
    "guessfood_sim(1000,probs,cost,get)"
   ],
   "cell_type": "code",
   "outputs": [
    {
     "output_type": "execute_result",
     "data": {
      "text/plain": "(-11.599999999999998, 83.35850286563506)"
     },
     "metadata": {},
     "execution_count": 50
    }
   ],
   "metadata": {},
   "execution_count": 50
  },
  {
   "source": [
    "guessfood_sim(100, [0, 1, 0], 1, 0)"
   ],
   "cell_type": "code",
   "outputs": [
    {
     "output_type": "execute_result",
     "data": {
      "text/plain": "(-3.0, 0.0)"
     },
     "metadata": {},
     "execution_count": 53
    }
   ],
   "metadata": {},
   "execution_count": 53
  },
  {
   "source": [
    "guessfood_sim(3000, [0.5, 0.5, 0.5], 1, 1)"
   ],
   "cell_type": "code",
   "outputs": [
    {
     "output_type": "execute_result",
     "data": {
      "text/plain": "(-1.4593333333333334, 0.8619819539229806)"
     },
     "metadata": {},
     "execution_count": 54
    }
   ],
   "metadata": {},
   "execution_count": 54
  },
  {
   "source": [
    "guessfood_sim(3000, [0.5, 0.5, 0.5], 2, 3.5)"
   ],
   "cell_type": "code",
   "outputs": [
    {
     "output_type": "execute_result",
     "data": {
      "text/plain": "(-0.7185, 3.0349642090147015)"
     },
     "metadata": {},
     "execution_count": 55
    }
   ],
   "metadata": {},
   "execution_count": 55
  },
  {
   "source": [
    "guessfood_sim(3000, [0.5, 0.1, 0.5], 1, 1)"
   ],
   "cell_type": "code",
   "outputs": [
    {
     "output_type": "execute_result",
     "data": {
      "text/plain": "(-1.8693333333333333, 0.7700170272287697)"
     },
     "metadata": {},
     "execution_count": 56
    }
   ],
   "metadata": {},
   "execution_count": 56
  },
  {
   "source": [
    "guessfood_sim(100, [1, 1, 1], 1, 0)"
   ],
   "cell_type": "code",
   "outputs": [
    {
     "output_type": "execute_result",
     "data": {
      "text/plain": "(-3.0, 0.0)"
     },
     "metadata": {},
     "execution_count": 57
    }
   ],
   "metadata": {},
   "execution_count": 57
  },
  {
   "cell_type": "code",
   "execution_count": null,
   "metadata": {},
   "outputs": [],
   "source": []
  },
  {
   "source": [
    "guessfood_sim(100, [0, 1, 1], 0, 1)"
   ],
   "cell_type": "code",
   "outputs": [
    {
     "output_type": "execute_result",
     "data": {
      "text/plain": "(2.0, 0.0)"
     },
     "metadata": {},
     "execution_count": 52
    }
   ],
   "metadata": {},
   "execution_count": 52
  }
 ]
}